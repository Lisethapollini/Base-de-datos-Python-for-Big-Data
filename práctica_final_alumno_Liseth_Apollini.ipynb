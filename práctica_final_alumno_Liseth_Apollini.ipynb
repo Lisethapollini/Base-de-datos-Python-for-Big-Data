{
 "cells": [
  {
   "cell_type": "code",
   "execution_count": 7,
   "metadata": {},
   "outputs": [],
   "source": [
    "import pandas as pd"
   ]
  },
  {
   "cell_type": "markdown",
   "metadata": {},
   "source": [
    "Cargar datos"
   ]
  },
  {
   "cell_type": "code",
   "execution_count": 8,
   "metadata": {},
   "outputs": [],
   "source": [
    "# Importamos el dataset de los datos de los pokemon \n",
    "df = pd.read_csv(\"dataset_final.csv\")"
   ]
  },
  {
   "cell_type": "code",
   "execution_count": null,
   "metadata": {},
   "outputs": [],
   "source": [
    "# imprimir primeras líneas\n",
    "df.head(10)"
   ]
  },
  {
   "cell_type": "code",
   "execution_count": null,
   "metadata": {},
   "outputs": [],
   "source": [
    "'''\n",
    "1. ¿Cuántos pokémon hay en el dataset?\n",
    "'''\n",
    "quantity_of_pokemon = df[\"Name\"].count()\n",
    "print(f\"Hay {quantity_of_pokemon} pokémon dentro del dataset.\")\n",
    "\n",
    "# Dos maneras diferentes de ver la cantidad de líneas que hay dentro del dataset. \n",
    "# print(df.describe())\n",
    "# print(len(df))"
   ]
  },
  {
   "cell_type": "code",
   "execution_count": null,
   "metadata": {},
   "outputs": [],
   "source": [
    "'''\n",
    "2. ¿Cuántos pokémon hay de tipo Poison? (Type 1)\n",
    "'''\n",
    "pokemon_types = df[\"Type 1\"].value_counts()\n",
    "print(pokemon_types)\n",
    "poison = df[df[\"Type 1\"] == \"Poison\"]\n",
    "print(f\"Hay {len(poison)} pokémon de tipo Poison dentro del dataset.\")"
   ]
  },
  {
   "cell_type": "code",
   "execution_count": null,
   "metadata": {},
   "outputs": [],
   "source": [
    "'''\n",
    "3. ¿Cuántos tipos diferentes de pokémon hay? (Type 1)\n",
    "'''\n",
    "pokemon_types = df[\"Type 1\"].nunique()\n",
    "print(f\"Hay {pokemon_types} tipos de pokémon.\")"
   ]
  },
  {
   "cell_type": "code",
   "execution_count": null,
   "metadata": {},
   "outputs": [],
   "source": [
    "'''\n",
    "2. ¿Cuántos pokémon hay de cada tipo? (Type 1)\n",
    "'''\n",
    "pokemon_per_type = df[\"Type 1\"].value_counts()\n",
    "print(pokemon_per_type)\n",
    "'''\n",
    "2.1 ¿cual es el tipo de pokémon con más pokémon? (Type 1)\n",
    "'''\n",
    "max_type_pokemon = pokemon_per_type.idxmax()\n",
    "max_type_pokemon_number = pokemon_per_type.max()\n",
    "print(f\"\\nEl tipo de pokémon más común es de '{max_type_pokemon}' con un total de {max_type_pokemon_number} pokémon.\")"
   ]
  },
  {
   "cell_type": "code",
   "execution_count": null,
   "metadata": {},
   "outputs": [],
   "source": [
    "'''\n",
    "3. ¿Cuál es el pokémon más rápido?\n",
    "'''\n",
    "max_speed = df[\"Speed\"].idxmax()\n",
    "max_speed_pokemon = df[\"Name\"][max_speed]\n",
    "print(f\"El pokémon con mayor velocidad es {max_speed_pokemon} y su velocidad es {max_speed}.\")\n"
   ]
  },
  {
   "cell_type": "code",
   "execution_count": null,
   "metadata": {},
   "outputs": [],
   "source": [
    "'''\n",
    "4. ¿Cuántos pokemon tiene una defensa superior a 100?\n",
    "'''\n",
    "defense_over_100 = df[df[\"Defense\"] > 100]\n",
    "pokemon_defense_over_100 = defense_over_100[\"Name\"].count()\n",
    "\n",
    "'''\n",
    "4.1 ¿Cuántos pokemon tiene una defensa superior a 100?\n",
    "'''\n",
    "print(f\"Hay {pokemon_defense_over_100} pokémon con nivel de defensa mayor a 100.\")"
   ]
  },
  {
   "cell_type": "code",
   "execution_count": null,
   "metadata": {},
   "outputs": [],
   "source": [
    "'''\n",
    "5. ¿Cuántos pokemon tiene una defensa superior a 100 y una velocidad superior a 100?\n",
    "'''\n",
    "filter_velocity_defense_over_100 = df[(df[\"Speed\"] > 100) & (df[\"Defense\"] > 100)]\n",
    "velocity_defense_over_100 = filter_velocity_defense_over_100[\"Name\"].count()\n",
    "print(f\"Hay {velocity_defense_over_100} pokémon con velocidad y defensa sobre nivel 100.\")"
   ]
  },
  {
   "cell_type": "code",
   "execution_count": null,
   "metadata": {},
   "outputs": [],
   "source": [
    "'''\n",
    "6. Ordena el dataset por el tipo 1 y por el tipo 2\n",
    "'''\n",
    "df.sort_values([\"Type 1\" , \"Type 2\"])"
   ]
  },
  {
   "cell_type": "code",
   "execution_count": null,
   "metadata": {},
   "outputs": [],
   "source": [
    "'''\n",
    "7. Crea un nuevo dataset con los pokémon de tipo Water y Fire como primer tipo\n",
    "'''\n",
    "fire_and_water_list = [\"Water\", \"Fire\"]\n",
    "fire_and_water_pokemoon = df[df[\"Type 1\"].isin(fire_and_water_list)]\n",
    "print(fire_and_water_pokemoon[[\"Name\", \"Type 1\"]])\n",
    "print(f\"Hay un total de {len(fire_and_water_pokemoon)} de pokémon de agua y fuego\")"
   ]
  },
  {
   "cell_type": "code",
   "execution_count": null,
   "metadata": {},
   "outputs": [],
   "source": [
    "'''\n",
    "8. Crea un nuevo dataset con los pokemon Legendary\n",
    "'''\n",
    "legendary = df[df[\"Legendary\"] == True]\n",
    "print(legendary)"
   ]
  },
  {
   "cell_type": "code",
   "execution_count": null,
   "metadata": {},
   "outputs": [],
   "source": [
    "'''\n",
    "9. Calcula el promedio de stats de los pokemon Legendary (HP, Attack, Defense, Sp. Atk, Sp. Def, Speed) y los no Legendary\n",
    "'''\n",
    "legendary = df[df[\"Legendary\"] == True]\n",
    "not_legendary = df[df[\"Legendary\"] == False]\n",
    "\n",
    "legendary_pokemon = legendary[[\"HP\",\"Attack\",\"Defense\",\"Sp. Atk\",\"Sp. Def\",\"Speed\"]].mean()\n",
    "not_legendary_pokemon = not_legendary[[\"HP\",\"Attack\",\"Defense\",\"Sp. Atk\",\"Sp. Def\",\"Speed\"]].mean()\n",
    "\n",
    "print(legendary_pokemon)\n",
    "print(not_legendary_pokemon)"
   ]
  },
  {
   "cell_type": "code",
   "execution_count": null,
   "metadata": {},
   "outputs": [],
   "source": [
    "'''\n",
    "10. Crea un nuevo dataframe con el resultado del anterior ejercicio comparando ambos promedios\n",
    "\n",
    "ejemplo:\n",
    "                HP  Attack  Defense  Sp. Atk  Sp. Def  Speed\n",
    "Legendary       99      90       89       91       94     90\n",
    "No Legendary    80      95       75       12       43     87\n",
    "\n",
    "'''\n",
    "legendary_not_legendary = pd.DataFrame(list(zip(legendary_pokemon, not_legendary_pokemon)))\n",
    "legendary_not_legendary_transpose = legendary_not_legendary.T\n",
    "legendary_not_legendary_transpose.columns = [\"HP\", \"Attack\", \"Defense\", \"Sp. Atk\",  \"Sp. Def\",  \"Speed\"]\n",
    "legendary_not_legendary_transpose.index = [\"Legendary pokémon\", \"Not Legendary pokémon\"]\n",
    "print(legendary_not_legendary_transpose)"
   ]
  },
  {
   "cell_type": "code",
   "execution_count": 125,
   "metadata": {},
   "outputs": [],
   "source": [
    "'''\n",
    "11. Añade una nueva colunma ['Doble tipo'] al dataframe inicial que inndique si el pokémon tiene dos tipos o no\n",
    "'''\n",
    "df[\"Doble tipo\"] = df[\"Type 2\"].notnull()"
   ]
  },
  {
   "cell_type": "code",
   "execution_count": null,
   "metadata": {},
   "outputs": [],
   "source": [
    "'''\n",
    "12. Muestra las columas Name, Type 1, Type 2 de los pokémon que tienen dos tipos y ordenalos por Type 1 , Type 2 y Name\n",
    "'''\n",
    "ordenado = df[df[\"Doble tipo\"] == True].sort_values([\"Type 1\", \"Type 2\", \"Name\"])\n",
    "ordenado"
   ]
  },
  {
   "cell_type": "code",
   "execution_count": null,
   "metadata": {},
   "outputs": [],
   "source": [
    "from functools import reduce\n",
    "\n",
    "'''\n",
    "13. Dada una lista de Artículos con sus precio. Define las siguientes funciones:\n",
    "Puedes definir más funciones si lo consideras necesario.\n",
    "'''\n",
    "articulos = {\n",
    "    'Camisa': 20,\n",
    "    'Pantalón': 30,\n",
    "    'Calcetines': 5,\n",
    "    'Zapatos': 50,\n",
    "    'Gorra': 10,\n",
    "    'Bufanda': 15,\n",
    "    'Gafas': 25,\n",
    "    'Reloj': 35,\n",
    "    'Corbata': 40,\n",
    "}\n",
    "\n",
    "compra = ['Camisa', 'Pantalón', 'Pantalón', 'Gorra', 'Gafas', 'Corbata']\n",
    "\n",
    "\n",
    "# A. Una función que calcule el precio total de la compra\n",
    "def precio_total(compra):\n",
    "    return reduce(lambda x, y: x+y, list(map(lambda x: articulos[x], compra)))\n",
    "    \n",
    "print(f\"** Precio total de la compra: {precio_total(compra)}\")\n",
    "\n",
    "# B. Una función que calcule el precio total de la compra con un descuento del 10%\n",
    "def precio_descuento(compra):\n",
    "    precio_total_descuento = precio_total(compra)\n",
    "    return 0.9*precio_total_descuento\n",
    "\n",
    "print(f\"** Precio luego de aplicar el descuento del 10%: {precio_descuento(compra)}\")\n",
    "\n",
    "# C. Una función que calcule el precio total de la compra con un descuento del 10% si la compra supera los 100€\n",
    "def precio_total_sobre_100(compra):\n",
    "    precio_total_calculado = 0\n",
    "    if precio_total(compra) > 100:\n",
    "        precio_total_calculado = precio_descuento(compra)\n",
    "    else:\n",
    "        precio_total_calculado = precio_total(compra)\n",
    "    return precio_total_calculado\n",
    "\n",
    "print(f\"** Precio final: {precio_total_sobre_100(compra)}\")\n",
    "\n",
    "# D. Una función que calcule el precio total aplicando el IVA (21%)\n",
    "def precio_con_iva(compra):\n",
    "    precio_total_iva = precio_total(compra)\n",
    "    return 1.21*precio_total_iva\n",
    "\n",
    "print(f\"** Precio con iva (21%): {precio_con_iva(compra)}\")\n",
    "\n",
    "# E.lista los artículos cuyo precio es superior a 20€\n",
    "def precios_sobre_20(compras):\n",
    "    return list(filter(lambda x: articulos[x] > 20, compras))\n",
    "\n",
    "separator = \"\\n\"\n",
    "print(f\"** Los artíclos cuyo precio es superior a 20€ son:\\n{separator.join(set(precios_sobre_20(compra)))}\")"
   ]
  },
  {
   "cell_type": "code",
   "execution_count": 41,
   "metadata": {},
   "outputs": [
    {
     "name": "stdout",
     "output_type": "stream",
     "text": [
      "[('Juan', 'Pérez', '1', 7.0), ('Luis', 'González', '1', 7.0), ('Pedro', 'Rodríguez', '1', 7.0), ('Marta', 'López', '1', 7.0), ('Javier', 'Sánchez', '1', 7.0), ('Sergio', 'Jiménez', '1', 7.0), ('Pablo', 'Álvarez', '1', 7.0)]\n",
      "[('Ana', 'García', '2', 7.0), ('María', 'Martínez', '2', 7.0), ('Lucía', 'Hernández', '2', 7.0), ('Sara', 'Díaz', '2', 7.0), ('Miguel', 'Fernández', '2', 7.0), ('Sandra', 'Ruiz', '2', 7.0), ('María', 'Gómez', '2', 7.0)]\n"
     ]
    }
   ],
   "source": [
    "'''\n",
    "14. Dada una lista de tuplas con el nombre de un alumno, apellidos, curso y sus notas. \n",
    "\n",
    " Define una funcion que reciba el curso y saque una lista en la que aparezca e nombre y apellidos y el promedio de sus notas.\n",
    " Puedes definir más funciones si lo consideras necesario.\n",
    "'''\n",
    "\n",
    "alumnos = [('Juan', 'Pérez', '1', [5, 6, 7, 8, 9]),\n",
    "            ('Ana', 'García', '2', [5, 6, 7, 8, 9]),\n",
    "            ('Luis', 'González', '1', [5, 6, 7, 8, 9]),\n",
    "            ('María', 'Martínez', '2', [5, 6, 7, 8, 9]),\n",
    "            ('Pedro', 'Rodríguez', '1', [5, 6, 7, 8, 9]),\n",
    "            ('Lucía', 'Hernández', '2', [5, 6, 7, 8, 9]),\n",
    "            ('Marta', 'López', '1', [5, 6, 7, 8, 9]),\n",
    "            ('Sara', 'Díaz', '2', [5, 6, 7, 8, 9]),\n",
    "            ('Javier', 'Sánchez', '1', [5, 6, 7, 8, 9]),\n",
    "            ('Miguel', 'Fernández', '2', [5, 6, 7, 8, 9]),\n",
    "            ('Sergio', 'Jiménez', '1', [5, 6, 7, 8, 9]),\n",
    "            ('Sandra', 'Ruiz', '2', [5, 6, 7, 8, 9]),\n",
    "            ('Pablo', 'Álvarez', '1', [5, 6, 7, 8, 9]),\n",
    "            ('María', 'Gómez', '2', [5, 6, 7, 8, 9]),\n",
    "]\n",
    "\n",
    "promedio_calificaciones = lambda calificaciones: reduce(lambda x, y: x + y, calificaciones) / len(calificaciones)\n",
    "\n",
    "def alumno(alumno):\n",
    "    alumno_con_promedio = (alumno[0], alumno[1], alumno[2], promedio_calificaciones(alumno[3]))\n",
    "    return alumno_con_promedio\n",
    "    \n",
    "def alumnos_por_curso(curso, lista_alumnos):\n",
    "    return list(map(lambda x: alumno(x), (filter(lambda x: x[2] == curso, lista_alumnos))))\n",
    "\n",
    "\n",
    "print(alumnos_por_curso(\"1\", alumnos))\n",
    "\n",
    "print(alumnos_por_curso(\"2\", alumnos))"
   ]
  }
 ],
 "metadata": {
  "kernelspec": {
   "display_name": "Python 3.10.6 64-bit",
   "language": "python",
   "name": "python3"
  },
  "language_info": {
   "codemirror_mode": {
    "name": "ipython",
    "version": 3
   },
   "file_extension": ".py",
   "mimetype": "text/x-python",
   "name": "python",
   "nbconvert_exporter": "python",
   "pygments_lexer": "ipython3",
   "version": "3.10.6"
  },
  "orig_nbformat": 4,
  "vscode": {
   "interpreter": {
    "hash": "1c3f3fad9dc954561cde743a0e76bf4c41beab738f52c526b2bc5478376cc38f"
   }
  }
 },
 "nbformat": 4,
 "nbformat_minor": 2
}
